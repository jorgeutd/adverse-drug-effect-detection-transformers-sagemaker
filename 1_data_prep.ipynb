{
 "cells": [
  {
   "cell_type": "code",
   "execution_count": 1,
   "id": "0f915c6a",
   "metadata": {},
   "outputs": [
    {
     "name": "stdout",
     "output_type": "stream",
     "text": [
      "\u001b[31mERROR: pip's dependency resolver does not currently take into account all the packages that are installed. This behaviour is the source of the following dependency conflicts.\n",
      "s3fs 2021.4.0 requires fsspec==2021.04.0, but you have fsspec 2021.11.0 which is incompatible.\u001b[0m\n",
      "\u001b[33mWARNING: You are using pip version 21.3; however, version 21.3.1 is available.\n",
      "You should consider upgrading via the '/home/ec2-user/anaconda3/envs/pytorch_latest_p37/bin/python -m pip install --upgrade pip' command.\u001b[0m\n"
     ]
    }
   ],
   "source": [
    "!pip install datasets -q"
   ]
  },
  {
   "cell_type": "code",
   "execution_count": 2,
   "id": "03fca6b8",
   "metadata": {},
   "outputs": [
    {
     "name": "stdout",
     "output_type": "stream",
     "text": [
      "\u001b[33mWARNING: You are using pip version 21.3; however, version 21.3.1 is available.\r\n",
      "You should consider upgrading via the '/home/ec2-user/anaconda3/envs/pytorch_latest_p37/bin/python -m pip install --upgrade pip' command.\u001b[0m\r\n"
     ]
    }
   ],
   "source": [
    "!pip install sagemaker -U -q"
   ]
  },
  {
   "cell_type": "code",
   "execution_count": 3,
   "id": "0323e104",
   "metadata": {},
   "outputs": [
    {
     "name": "stdout",
     "output_type": "stream",
     "text": [
      "\u001b[33mWARNING: You are using pip version 21.3; however, version 21.3.1 is available.\r\n",
      "You should consider upgrading via the '/home/ec2-user/anaconda3/envs/pytorch_latest_p37/bin/python -m pip install --upgrade pip' command.\u001b[0m\r\n"
     ]
    }
   ],
   "source": [
    "!pip install s3fs==0.4.2 -U -q"
   ]
  },
  {
   "cell_type": "markdown",
   "id": "d7b723b1",
   "metadata": {},
   "source": [
    "### Load dataset and have a peak:"
   ]
  },
  {
   "cell_type": "markdown",
   "id": "1154f49a",
   "metadata": {},
   "source": [
    "This cell is required in SageMaker Studio, otherwise the download of the dataset will throw an error.\n",
    "After running this cell, the kernel needs to be restarted. After restarting tthe kernel, continue with the cell below (loading the dataset)"
   ]
  },
  {
   "cell_type": "code",
   "execution_count": 1,
   "id": "00145ee1",
   "metadata": {},
   "outputs": [],
   "source": [
    "# %%capture\n",
    "# import IPython\n",
    "# !conda install -c conda-forge ipywidgets -y\n",
    "# IPython.Application.instance().kernel.do_shutdown(True)"
   ]
  },
  {
   "cell_type": "code",
   "execution_count": 2,
   "id": "eb8092b5",
   "metadata": {},
   "outputs": [
    {
     "data": {
      "application/vnd.jupyter.widget-view+json": {
       "model_id": "e2b689b26f2c4dcf830cba3004b041d5",
       "version_major": 2,
       "version_minor": 0
      },
      "text/plain": [
       "Downloading:   0%|          | 0.00/3.02k [00:00<?, ?B/s]"
      ]
     },
     "metadata": {},
     "output_type": "display_data"
    },
    {
     "data": {
      "application/vnd.jupyter.widget-view+json": {
       "model_id": "cc1a6deb612e4bf9a1337b7cc0bd4748",
       "version_major": 2,
       "version_minor": 0
      },
      "text/plain": [
       "Downloading:   0%|          | 0.00/1.92k [00:00<?, ?B/s]"
      ]
     },
     "metadata": {},
     "output_type": "display_data"
    },
    {
     "name": "stdout",
     "output_type": "stream",
     "text": [
      "Downloading and preparing dataset ade_corpus_v2/Ade_corpus_v2_classification (download: 3.62 MiB, generated: 3.25 MiB, post-processed: Unknown size, total: 6.86 MiB) to /home/ec2-user/.cache/huggingface/datasets/ade_corpus_v2/Ade_corpus_v2_classification/1.0.0/940d61334dbfac6b01ac5d00286a2122608b8dc79706ee7e9206a1edb172c559...\n"
     ]
    },
    {
     "data": {
      "application/vnd.jupyter.widget-view+json": {
       "model_id": "61139e1ad1ed420dbe972534897d8571",
       "version_major": 2,
       "version_minor": 0
      },
      "text/plain": [
       "Downloading:   0%|          | 0.00/307k [00:00<?, ?B/s]"
      ]
     },
     "metadata": {},
     "output_type": "display_data"
    },
    {
     "data": {
      "application/vnd.jupyter.widget-view+json": {
       "model_id": "3fdbf38799d2448e836136725b85de91",
       "version_major": 2,
       "version_minor": 0
      },
      "text/plain": [
       "Downloading:   0%|          | 0.00/18.0k [00:00<?, ?B/s]"
      ]
     },
     "metadata": {},
     "output_type": "display_data"
    },
    {
     "data": {
      "application/vnd.jupyter.widget-view+json": {
       "model_id": "8ea97b271df04cfc8a17a35b78ad5c0f",
       "version_major": 2,
       "version_minor": 0
      },
      "text/plain": [
       "Downloading:   0%|          | 0.00/868k [00:00<?, ?B/s]"
      ]
     },
     "metadata": {},
     "output_type": "display_data"
    },
    {
     "data": {
      "application/vnd.jupyter.widget-view+json": {
       "model_id": "",
       "version_major": 2,
       "version_minor": 0
      },
      "text/plain": [
       "0 examples [00:00, ? examples/s]"
      ]
     },
     "metadata": {},
     "output_type": "display_data"
    },
    {
     "name": "stdout",
     "output_type": "stream",
     "text": [
      "Dataset ade_corpus_v2 downloaded and prepared to /home/ec2-user/.cache/huggingface/datasets/ade_corpus_v2/Ade_corpus_v2_classification/1.0.0/940d61334dbfac6b01ac5d00286a2122608b8dc79706ee7e9206a1edb172c559. Subsequent calls will reuse this data.\n"
     ]
    },
    {
     "data": {
      "application/vnd.jupyter.widget-view+json": {
       "model_id": "e575b9145e034ebc99f2069e220dc77b",
       "version_major": 2,
       "version_minor": 0
      },
      "text/plain": [
       "  0%|          | 0/1 [00:00<?, ?it/s]"
      ]
     },
     "metadata": {},
     "output_type": "display_data"
    },
    {
     "data": {
      "text/html": [
       "<div>\n",
       "<style scoped>\n",
       "    .dataframe tbody tr th:only-of-type {\n",
       "        vertical-align: middle;\n",
       "    }\n",
       "\n",
       "    .dataframe tbody tr th {\n",
       "        vertical-align: top;\n",
       "    }\n",
       "\n",
       "    .dataframe thead th {\n",
       "        text-align: right;\n",
       "    }\n",
       "</style>\n",
       "<table border=\"1\" class=\"dataframe\">\n",
       "  <thead>\n",
       "    <tr style=\"text-align: right;\">\n",
       "      <th></th>\n",
       "      <th>text</th>\n",
       "      <th>label</th>\n",
       "    </tr>\n",
       "  </thead>\n",
       "  <tbody>\n",
       "    <tr>\n",
       "      <th>2148</th>\n",
       "      <td>Eruptive epidermoid cysts resulting from treat...</td>\n",
       "      <td>1</td>\n",
       "    </tr>\n",
       "    <tr>\n",
       "      <th>8891</th>\n",
       "      <td>Diagnosis, therapy, and complications of thera...</td>\n",
       "      <td>0</td>\n",
       "    </tr>\n",
       "    <tr>\n",
       "      <th>7660</th>\n",
       "      <td>This case report describes the diagnostic work...</td>\n",
       "      <td>0</td>\n",
       "    </tr>\n",
       "    <tr>\n",
       "      <th>7507</th>\n",
       "      <td>During IFN therapy, serum aminotransferases fe...</td>\n",
       "      <td>0</td>\n",
       "    </tr>\n",
       "    <tr>\n",
       "      <th>8174</th>\n",
       "      <td>Reversal of post-reperfusion coagulopathy by p...</td>\n",
       "      <td>0</td>\n",
       "    </tr>\n",
       "  </tbody>\n",
       "</table>\n",
       "</div>"
      ],
      "text/plain": [
       "                                                   text  label\n",
       "2148  Eruptive epidermoid cysts resulting from treat...      1\n",
       "8891  Diagnosis, therapy, and complications of thera...      0\n",
       "7660  This case report describes the diagnostic work...      0\n",
       "7507  During IFN therapy, serum aminotransferases fe...      0\n",
       "8174  Reversal of post-reperfusion coagulopathy by p...      0"
      ]
     },
     "execution_count": 2,
     "metadata": {},
     "output_type": "execute_result"
    }
   ],
   "source": [
    "from datasets import load_dataset\n",
    "import pandas as pd\n",
    "dataset = load_dataset('ade_corpus_v2', 'Ade_corpus_v2_classification')\n",
    "df = pd.DataFrame(dataset['train'])\n",
    "df.sample(5, random_state=124)"
   ]
  },
  {
   "cell_type": "code",
   "execution_count": 5,
   "id": "51ef1e8d",
   "metadata": {},
   "outputs": [
    {
     "data": {
      "text/html": [
       "<div>\n",
       "<style scoped>\n",
       "    .dataframe tbody tr th:only-of-type {\n",
       "        vertical-align: middle;\n",
       "    }\n",
       "\n",
       "    .dataframe tbody tr th {\n",
       "        vertical-align: top;\n",
       "    }\n",
       "\n",
       "    .dataframe thead th {\n",
       "        text-align: right;\n",
       "    }\n",
       "</style>\n",
       "<table border=\"1\" class=\"dataframe\">\n",
       "  <thead>\n",
       "    <tr style=\"text-align: right;\">\n",
       "      <th></th>\n",
       "      <th>text</th>\n",
       "      <th>label</th>\n",
       "    </tr>\n",
       "  </thead>\n",
       "  <tbody>\n",
       "    <tr>\n",
       "      <th>7831</th>\n",
       "      <td>Patients should be informed of the risk of septic arthritis.</td>\n",
       "      <td>0</td>\n",
       "    </tr>\n",
       "    <tr>\n",
       "      <th>14078</th>\n",
       "      <td>In view of her cachexia and cytopaenia, emergency chemotherapy was initiated using a modified regimen of carboplatin, etoposide and vincristine (CEO) in preference to the more traditional but less well-tolerated VAC (vincristine, actinomycin D, cyclophosphamide).</td>\n",
       "      <td>0</td>\n",
       "    </tr>\n",
       "    <tr>\n",
       "      <th>6016</th>\n",
       "      <td>Less common adverse events to dapsone include the idiosyncratic reactions of leukopenia and agranulocytosis, cutaneous eruptions, peripheral neuropathy, psychosis, toxic hepatitis, cholestatic jaundice, nephrotic syndrome, renal papillary necrosis, severe hypoalbuminemia without proteinuria, an ...</td>\n",
       "      <td>1</td>\n",
       "    </tr>\n",
       "    <tr>\n",
       "      <th>16090</th>\n",
       "      <td>Treatment with calcitriol.</td>\n",
       "      <td>0</td>\n",
       "    </tr>\n",
       "    <tr>\n",
       "      <th>586</th>\n",
       "      <td>We report a case of interstitial pulmonary disease that occurred together with lymphocytic colitis during treatment with ticlopidine.</td>\n",
       "      <td>1</td>\n",
       "    </tr>\n",
       "    <tr>\n",
       "      <th>15148</th>\n",
       "      <td>While she was receiving the maximum dose of 180 mg/day of cinacalcet HCl and PTH at 443 pg/mL, she needed to be hospitalized for a right hip prothesis.</td>\n",
       "      <td>0</td>\n",
       "    </tr>\n",
       "    <tr>\n",
       "      <th>14752</th>\n",
       "      <td>A patient receiving long-term corticosteroid therapy for asthma had two episodes of Pneumocystis carinii pneumonia (PCP) 8 years apart.</td>\n",
       "      <td>0</td>\n",
       "    </tr>\n",
       "    <tr>\n",
       "      <th>21319</th>\n",
       "      <td>We describe various measures to reduce severe anxiety that interfered with much-needed maintenance electroconvulsive therapy in a 32-year-old man.</td>\n",
       "      <td>0</td>\n",
       "    </tr>\n",
       "    <tr>\n",
       "      <th>1973</th>\n",
       "      <td>The relation between tacrolimus treatment and staining was suggested by the appearance of pigmentation during topical tacrolimus treatment and its clinical disappearance when treatment was stopped.</td>\n",
       "      <td>1</td>\n",
       "    </tr>\n",
       "    <tr>\n",
       "      <th>11959</th>\n",
       "      <td>There was minimum toxicity reported for either of the arms and no treatment related deaths.</td>\n",
       "      <td>0</td>\n",
       "    </tr>\n",
       "  </tbody>\n",
       "</table>\n",
       "</div>"
      ],
      "text/plain": [
       "                                                                                                                                                                                                                                                                                                              text  \\\n",
       "7831                                                                                                                                                                                                                                                  Patients should be informed of the risk of septic arthritis.   \n",
       "14078                                      In view of her cachexia and cytopaenia, emergency chemotherapy was initiated using a modified regimen of carboplatin, etoposide and vincristine (CEO) in preference to the more traditional but less well-tolerated VAC (vincristine, actinomycin D, cyclophosphamide).   \n",
       "6016   Less common adverse events to dapsone include the idiosyncratic reactions of leukopenia and agranulocytosis, cutaneous eruptions, peripheral neuropathy, psychosis, toxic hepatitis, cholestatic jaundice, nephrotic syndrome, renal papillary necrosis, severe hypoalbuminemia without proteinuria, an ...   \n",
       "16090                                                                                                                                                                                                                                                                                   Treatment with calcitriol.   \n",
       "586                                                                                                                                                                          We report a case of interstitial pulmonary disease that occurred together with lymphocytic colitis during treatment with ticlopidine.   \n",
       "15148                                                                                                                                                      While she was receiving the maximum dose of 180 mg/day of cinacalcet HCl and PTH at 443 pg/mL, she needed to be hospitalized for a right hip prothesis.   \n",
       "14752                                                                                                                                                                      A patient receiving long-term corticosteroid therapy for asthma had two episodes of Pneumocystis carinii pneumonia (PCP) 8 years apart.   \n",
       "21319                                                                                                                                                           We describe various measures to reduce severe anxiety that interfered with much-needed maintenance electroconvulsive therapy in a 32-year-old man.   \n",
       "1973                                                                                                         The relation between tacrolimus treatment and staining was suggested by the appearance of pigmentation during topical tacrolimus treatment and its clinical disappearance when treatment was stopped.   \n",
       "11959                                                                                                                                                                                                                  There was minimum toxicity reported for either of the arms and no treatment related deaths.   \n",
       "\n",
       "       label  \n",
       "7831       0  \n",
       "14078      0  \n",
       "6016       1  \n",
       "16090      0  \n",
       "586        1  \n",
       "15148      0  \n",
       "14752      0  \n",
       "21319      0  \n",
       "1973       1  \n",
       "11959      0  "
      ]
     },
     "metadata": {},
     "output_type": "display_data"
    }
   ],
   "source": [
    "from pandas import option_context\n",
    "\n",
    "with option_context('display.max_rows', None,'display.max_colwidth', 300,'display.max_columns',150):\n",
    "              display(df.sample(10))"
   ]
  },
  {
   "cell_type": "markdown",
   "id": "f1c727a2",
   "metadata": {},
   "source": [
    "### Determine ratio of positive ADE phrases compared to total dataset"
   ]
  },
  {
   "cell_type": "code",
   "execution_count": 6,
   "id": "30037cba",
   "metadata": {},
   "outputs": [
    {
     "data": {
      "text/plain": [
       "0.29005783296478993"
      ]
     },
     "execution_count": 6,
     "metadata": {},
     "output_type": "execute_result"
    }
   ],
   "source": [
    "df['label'].sum()/len(df)"
   ]
  },
  {
   "cell_type": "code",
   "execution_count": 10,
   "id": "e2c2921b",
   "metadata": {},
   "outputs": [
    {
     "data": {
      "image/png": "[encoded data removed]",
      "text/plain": [
       "<Figure size 792x576 with 1 Axes>"
      ]
     },
     "metadata": {},
     "output_type": "display_data"
    }
   ],
   "source": [
    "import matplotlib.pyplot as plt\n",
    "import warnings\n",
    "import seaborn as sns\n",
    "\n",
    "sns.set(style=\"whitegrid\")\n",
    "plt.figure(figsize=(11,8))\n",
    "\n",
    "color_labels = df['label'].unique()\n",
    "\n",
    "# List of color palette to use\n",
    "rgb_values = sns.color_palette(\"tab10\", 2)\n",
    "\n",
    "# Map label to color palette\n",
    "\n",
    "color_map = dict(zip(color_labels, rgb_values))\n",
    "\n",
    "\n",
    "ax = sns.countplot(x=\"label\", data=df)\n",
    "\n",
    "plt.xticks(size=11)\n",
    "plt.xlabel(' Class', size=  11)\n",
    "plt.yticks(size=11)\n",
    "plt.ylabel('Count', size=  11)\n",
    "\n",
    "def without_hue(plot, feature):\n",
    "    total = len(feature)\n",
    "    for p in plot.patches:\n",
    "        percentage = '{:.1f}%'.format(100 * p.get_height()/total)\n",
    "        x = p.get_x() + p.get_width() / 2 - 0.05\n",
    "        y = p.get_y() + p.get_height()\n",
    "        ax.annotate(percentage, (x, y), size = 11.5)\n",
    "    \n",
    "def change_width(ax, new_value) :\n",
    "    for patch in ax.patches :\n",
    "        current_width = patch.get_width()\n",
    "        diff = current_width - new_value\n",
    "\n",
    "        # we change the bar width\n",
    "        patch.set_width(new_value)\n",
    "\n",
    "        # we recenter the bar\n",
    "        patch.set_x(patch.get_x() + diff * .5)\n",
    "\n",
    "change_width(ax, .55)\n",
    "\n",
    "without_hue(ax, df.label)\n",
    "plt.title('ADE CLASS Proportion')\n",
    "plt.show()"
   ]
  },
  {
   "cell_type": "markdown",
   "id": "38e0fa43",
   "metadata": {},
   "source": [
    "### Initialise Sagemaker variables and create S3 bucket"
   ]
  },
  {
   "cell_type": "code",
   "execution_count": 13,
   "id": "51a8b1e9",
   "metadata": {},
   "outputs": [],
   "source": [
    "from sagemaker.huggingface.processing import HuggingFaceProcessor\n",
    "import sagemaker\n",
    "from sagemaker import get_execution_role"
   ]
  },
  {
   "cell_type": "code",
   "execution_count": 14,
   "id": "e9423eb4",
   "metadata": {},
   "outputs": [],
   "source": [
    "sess = sagemaker.Session()\n",
    "role = sagemaker.get_execution_role()"
   ]
  },
  {
   "cell_type": "code",
   "execution_count": 16,
   "id": "af67714e",
   "metadata": {},
   "outputs": [
    {
     "data": {
      "text/plain": [
       "<sagemaker.session.Session at 0x7efd97c44210>"
      ]
     },
     "execution_count": 16,
     "metadata": {},
     "output_type": "execute_result"
    }
   ],
   "source": [
    "sess"
   ]
  },
  {
   "cell_type": "code",
   "execution_count": 15,
   "id": "dcf95f74",
   "metadata": {},
   "outputs": [
    {
     "data": {
      "text/plain": [
       "'arn:aws:iam::197614225699:role/bi-sagemaker-access'"
      ]
     },
     "execution_count": 15,
     "metadata": {},
     "output_type": "execute_result"
    }
   ],
   "source": [
    "role "
   ]
  },
  {
   "cell_type": "code",
   "execution_count": 17,
   "id": "be4a1d38",
   "metadata": {},
   "outputs": [
    {
     "data": {
      "text/plain": [
       "'197614225699'"
      ]
     },
     "execution_count": 17,
     "metadata": {},
     "output_type": "execute_result"
    }
   ],
   "source": [
    "sess.account_id()"
   ]
  },
  {
   "cell_type": "code",
   "execution_count": 18,
   "id": "c7287016",
   "metadata": {},
   "outputs": [],
   "source": [
    "bucket = f\"az-ade-{sess.account_id()}\"\n",
    "sess._create_s3_bucket_if_it_does_not_exist(bucket_name=bucket, region=sess._region_name)"
   ]
  },
  {
   "cell_type": "code",
   "execution_count": 20,
   "id": "b993ab8c",
   "metadata": {},
   "outputs": [
    {
     "data": {
      "text/plain": [
       "'az-ade-197614225699'"
      ]
     },
     "execution_count": 20,
     "metadata": {},
     "output_type": "execute_result"
    }
   ],
   "source": [
    "bucket "
   ]
  },
  {
   "cell_type": "markdown",
   "id": "9cf6ec95",
   "metadata": {},
   "source": [
    "### Save the name of the S3 bucket for later sessions"
   ]
  },
  {
   "cell_type": "code",
   "execution_count": 19,
   "id": "55d80023",
   "metadata": {},
   "outputs": [
    {
     "name": "stdout",
     "output_type": "stream",
     "text": [
      "Stored 'bucket' (str)\n"
     ]
    }
   ],
   "source": [
    "%store bucket"
   ]
  },
  {
   "cell_type": "markdown",
   "id": "6178d49c",
   "metadata": {},
   "source": [
    "### Set up processing job"
   ]
  },
  {
   "cell_type": "code",
   "execution_count": 21,
   "id": "104ed5dd",
   "metadata": {},
   "outputs": [],
   "source": [
    "hf_processor = HuggingFaceProcessor(\n",
    "    role=role,\n",
    "    instance_type=\"ml.p3.8xlarge\",\n",
    "    transformers_version='4.6',\n",
    "    base_job_name=\"az-ade\",\n",
    "    pytorch_version='1.7',\n",
    "    instance_count=1,\n",
    ")"
   ]
  },
  {
   "cell_type": "code",
   "execution_count": 22,
   "id": "aa5825c2",
   "metadata": {},
   "outputs": [],
   "source": [
    "from sagemaker.processing import ProcessingInput, ProcessingOutput\n",
    "\n",
    "outputs=[\n",
    "        ProcessingOutput(output_name=\"train_data\", source=\"/opt/ml/processing/training\", destination=f\"s3://{bucket}/processing_output/train_data\"),\n",
    "        ProcessingOutput(output_name=\"validation_data\", source=\"/opt/ml/processing/validation\", destination=f\"s3://{bucket}/processing_output/validation_data\"),\n",
    "        ProcessingOutput(output_name=\"test_data\", source=\"/opt/ml/processing/test\", destination=f\"s3://{bucket}/processing_output/test_data\"),\n",
    "    ]\n",
    "arguments = [\"--dataset-name\", \"ade_corpus_v2\",\n",
    "             \"--datasubset-name\", \"Ade_corpus_v2_classification\",\n",
    "             \"--model-name\", \"distilbert-base-uncased\",\n",
    "             \"--train-ratio\", \"0.7\",\n",
    "             \"--val-ratio\", \"0.15\",]"
   ]
  },
  {
   "cell_type": "code",
   "execution_count": 23,
   "id": "23aeceb8",
   "metadata": {},
   "outputs": [
    {
     "name": "stdout",
     "output_type": "stream",
     "text": [
      "\n",
      "Job Name:  az-ade-2021-11-18-15-20-38-713\n",
      "Inputs:  [{'InputName': 'code', 'AppManaged': False, 'S3Input': {'S3Uri': 's3://sagemaker-us-east-1-197614225699/az-ade-2021-11-18-15-20-38-713/source/sourcedir.tar.gz', 'LocalPath': '/opt/ml/processing/input/code/', 'S3DataType': 'S3Prefix', 'S3InputMode': 'File', 'S3DataDistributionType': 'FullyReplicated', 'S3CompressionType': 'None'}}, {'InputName': 'entrypoint', 'AppManaged': False, 'S3Input': {'S3Uri': 's3://sagemaker-us-east-1-197614225699/az-ade-2021-11-18-15-20-38-713/source/runproc.sh', 'LocalPath': '/opt/ml/processing/input/entrypoint', 'S3DataType': 'S3Prefix', 'S3InputMode': 'File', 'S3DataDistributionType': 'FullyReplicated', 'S3CompressionType': 'None'}}]\n",
      "Outputs:  [{'OutputName': 'train_data', 'AppManaged': False, 'S3Output': {'S3Uri': 's3://az-ade-197614225699/processing_output/train_data', 'LocalPath': '/opt/ml/processing/training', 'S3UploadMode': 'EndOfJob'}}, {'OutputName': 'validation_data', 'AppManaged': False, 'S3Output': {'S3Uri': 's3://az-ade-197614225699/processing_output/validation_data', 'LocalPath': '/opt/ml/processing/validation', 'S3UploadMode': 'EndOfJob'}}, {'OutputName': 'test_data', 'AppManaged': False, 'S3Output': {'S3Uri': 's3://az-ade-197614225699/processing_output/test_data', 'LocalPath': '/opt/ml/processing/test', 'S3UploadMode': 'EndOfJob'}}]\n",
      ".............................................\u001b[34mReceived arguments Namespace(dataset_name='ade_corpus_v2', datasubset_name='Ade_corpus_v2_classification', model_name='bert-large-uncased', train_ratio=0.7, val_ratio=0.15)\u001b[0m\n",
      "\u001b[34m#015Downloading:   0%|          | 0.00/3.02k [00:00<?, ?B/s]#015Downloading: 11.7kB [00:00, 8.39MB/s]                   \u001b[0m\n",
      "\u001b[34m#015Downloading:   0%|          | 0.00/1.92k [00:00<?, ?B/s]#015Downloading: 11.9kB [00:00, 9.83MB/s]                   \u001b[0m\n",
      "\u001b[34mDownloading and preparing dataset ade_corpus_v2/Ade_corpus_v2_classification (download: 3.62 MiB, generated: 3.25 MiB, post-processed: Unknown size, total: 6.86 MiB) to /root/.cache/huggingface/datasets/ade_corpus_v2/Ade_corpus_v2_classification/1.0.0/940d61334dbfac6b01ac5d00286a2122608b8dc79706ee7e9206a1edb172c559...\u001b[0m\n",
      "\u001b[34m#015Downloading:   0%|          | 0.00/307k [00:00<?, ?B/s]#015Downloading: 1.42MB [00:00, 62.0MB/s]                  \u001b[0m\n",
      "\u001b[34m#015Downloading:   0%|          | 0.00/18.0k [00:00<?, ?B/s]#015Downloading: 59.7kB [00:00, 21.0MB/s]                   \u001b[0m\n",
      "\u001b[34m#015Downloading:   0%|          | 0.00/868k [00:00<?, ?B/s]#015Downloading: 2.31MB [00:00, 48.1MB/s]                  \u001b[0m\n",
      "\u001b[34mDataset ade_corpus_v2 downloaded and prepared to /root/.cache/huggingface/datasets/ade_corpus_v2/Ade_corpus_v2_classification/1.0.0/940d61334dbfac6b01ac5d00286a2122608b8dc79706ee7e9206a1edb172c559. Subsequent calls will reuse this data.\u001b[0m\n",
      "\u001b[34mNumber of records before deduplication: 23516\u001b[0m\n",
      "\u001b[34mNumber of records after deduplication: 20896\u001b[0m\n",
      "\u001b[34m#0150 examples [00:00, ? examples/s]#015416 examples [00:00, 3823.85 examples/s]#0156251 examples [00:00, 5313.40 examples/s]#01511686 examples [00:00, 7285.32 examples/s]#01517782 examples [00:00, 9900.45 examples/s]#015                                          #015#015Downloading:   0%|          | 0.00/571 [00:00<?, ?B/s]#015Downloading: 100%|██████████| 571/571 [00:00<00:00, 816kB/s]\u001b[0m\n",
      "\u001b[34m#015Downloading:   0%|          | 0.00/232k [00:00<?, ?B/s]#015Downloading: 100%|██████████| 232k/232k [00:00<00:00, 35.4MB/s]\u001b[0m\n",
      "\u001b[34m#015Downloading:   0%|          | 0.00/466k [00:00<?, ?B/s]#015Downloading: 100%|██████████| 466k/466k [00:00<00:00, 35.8MB/s]\u001b[0m\n",
      "\u001b[34m#015Downloading:   0%|          | 0.00/28.0 [00:00<?, ?B/s]#015Downloading: 100%|██████████| 28.0/28.0 [00:00<00:00, 39.1kB/s]\u001b[0m\n",
      "\u001b[34m#015  0%|          | 0/1 [00:00<?, ?ba/s]#015100%|██████████| 1/1 [00:06<00:00,  6.05s/ba]#015100%|██████████| 1/1 [00:06<00:00,  6.05s/ba]\u001b[0m\n",
      "\u001b[34m#015  0%|          | 0/1 [00:00<?, ?ba/s]#015100%|██████████| 1/1 [00:00<00:00,  1.72ba/s]#015100%|██████████| 1/1 [00:00<00:00,  1.71ba/s]\u001b[0m\n",
      "\u001b[34m#015  0%|          | 0/1 [00:00<?, ?ba/s]#015100%|██████████| 1/1 [00:00<00:00,  1.81ba/s]#015100%|██████████| 1/1 [00:00<00:00,  1.81ba/s]\u001b[0m\n",
      "\n"
     ]
    }
   ],
   "source": [
    "hf_processor.run(\n",
    "    code=\"scripts/preprocess.py\",\n",
    "    outputs=outputs,\n",
    "    arguments=arguments\n",
    ")"
   ]
  },
  {
   "cell_type": "code",
   "execution_count": 25,
   "id": "9d27d26d",
   "metadata": {},
   "outputs": [
    {
     "name": "stdout",
     "output_type": "stream",
     "text": [
      "s3://az-ade-197614225699/processing_output/train_data\n",
      "s3://az-ade-197614225699/processing_output/validation_data\n",
      "s3://az-ade-197614225699/processing_output/test_data\n"
     ]
    }
   ],
   "source": [
    "preprocessing_job_description = hf_processor.jobs[-1].describe()\n",
    "\n",
    "output_config = preprocessing_job_description['ProcessingOutputConfig']\n",
    "for output in output_config['Outputs']:\n",
    "    print(output['S3Output']['S3Uri'])"
   ]
  },
  {
   "cell_type": "code",
   "execution_count": null,
   "id": "57ec8014",
   "metadata": {},
   "outputs": [],
   "source": []
  }
 ],
 "metadata": {
  "instance_type": "ml.t3.medium",
  "kernelspec": {
   "display_name": "conda_pytorch_latest_p37",
   "language": "python",
   "name": "conda_pytorch_latest_p37"
  },
  "language_info": {
   "codemirror_mode": {
    "name": "ipython",
    "version": 3
   },
   "file_extension": ".py",
   "mimetype": "text/x-python",
   "name": "python",
   "nbconvert_exporter": "python",
   "pygments_lexer": "ipython3",
   "version": "3.7.12"
  }
 },
 "nbformat": 4,
 "nbformat_minor": 5
}
